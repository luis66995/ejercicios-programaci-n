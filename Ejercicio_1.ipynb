{
  "nbformat": 4,
  "nbformat_minor": 0,
  "metadata": {
    "colab": {
      "private_outputs": true,
      "provenance": [],
      "authorship_tag": "ABX9TyPeAfH7tX4GamVLXespDSaU",
      "include_colab_link": true
    },
    "kernelspec": {
      "name": "python3",
      "display_name": "Python 3"
    },
    "language_info": {
      "name": "python"
    }
  },
  "cells": [
    {
      "cell_type": "markdown",
      "metadata": {
        "id": "view-in-github",
        "colab_type": "text"
      },
      "source": [
        "<a href=\"https://colab.research.google.com/github/luis66995/ejercicios-programaci-n/blob/main/Ejercicio_1.ipynb\" target=\"_parent\"><img src=\"https://colab.research.google.com/assets/colab-badge.svg\" alt=\"Open In Colab\"/></a>"
      ]
    },
    {
      "cell_type": "code",
      "execution_count": null,
      "metadata": {
        "id": "46_RKMCceMhy"
      },
      "outputs": [],
      "source": [
        "#1.-programa que imprima los números pares del 0 al 100.\n",
        "x=0\n",
        "while x<=100:\n",
        "    if x% 2==0:\n",
        "        print(\"El numero \",x,\" es par \")\n",
        "    x=x+1"
      ]
    }
  ]
}