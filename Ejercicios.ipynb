{
  "nbformat": 4,
  "nbformat_minor": 0,
  "metadata": {
    "colab": {
      "private_outputs": true,
      "provenance": [],
      "authorship_tag": "ABX9TyPy0jJHD8BATAaAYpzbK1Y6",
      "include_colab_link": true
    },
    "kernelspec": {
      "name": "python3",
      "display_name": "Python 3"
    },
    "language_info": {
      "name": "python"
    }
  },
  "cells": [
    {
      "cell_type": "markdown",
      "metadata": {
        "id": "view-in-github",
        "colab_type": "text"
      },
      "source": [
        "<a href=\"https://colab.research.google.com/github/luis66995/ejercicios-programaci-n/blob/main/Ejercicios.ipynb\" target=\"_parent\"><img src=\"https://colab.research.google.com/assets/colab-badge.svg\" alt=\"Open In Colab\"/></a>"
      ]
    },
    {
      "cell_type": "code",
      "execution_count": null,
      "metadata": {
        "id": "a_Qa67WXLndG"
      },
      "outputs": [],
      "source": [
        "#1.-programa que imprima los números pares del 0 al 100.\n",
        "x=0\n",
        "while x<=100:\n",
        "    if x% 2==0:\n",
        "        print(\"El numero \",x,\" es par \")\n",
        "    x=x+1"
      ]
    },
    {
      "cell_type": "code",
      "source": [
        "#2.-programa que reciba un número entre 1 y 50 y devuelva la suma de los números consecutivos del 1 hasta ese número.\n",
        "n = int(input(\"Ingrese un numero entre 1 y 50:  \"))\n",
        "suma = 0\n",
        "for i in range(1, n + 1):\n",
        "    suma += i\n",
        "print(\"La suma de los números consecutivos desde 1 hasta\", n, \"es:\", suma)"
      ],
      "metadata": {
        "id": "MsplyzaLGwOl"
      },
      "execution_count": null,
      "outputs": []
    },
    {
      "cell_type": "code",
      "source": [
        "#3._programa que reciba como entrada un monto en dólares (USD) y devuelva la cantidad equivalente en pesos mexicanos (MXN)\n",
        "dolar=19.68\n",
        "peso= 1.00\n",
        "cantidad = int(input(\"Ingrese la cantidad a convertir en dolares :\"))\n",
        "cantidad_pesos=( dolar*cantidad)\n",
        "\n",
        "print(f\"total de dinero en pesos es: {cantidad_pesos}\")\n"
      ],
      "metadata": {
        "id": "fQ9WPtczJHin"
      },
      "execution_count": null,
      "outputs": []
    },
    {
      "cell_type": "code",
      "source": [
        "#4.-programa que calcule el perímetro de un triángulo equilátero. El programa deberá pedir al usuario las entradas necesarias.\n",
        "lado = int(input(\"Ingrese el lado del triangulo equilatero:\"))\n",
        "#formula\n",
        "#perimetro = L*L*L\n",
        "perimerto= lado+lado+lado\n",
        "print(f\"El perimetro del triangulo es {perimerto}\")\n",
        "\n"
      ],
      "metadata": {
        "id": "bVOYNWaKNi_u"
      },
      "execution_count": null,
      "outputs": []
    },
    {
      "cell_type": "code",
      "source": [
        "#5.-programa que calcule el perímetro de un triángulo isósceles.\n",
        "#El programa pedirá al usuario las entradas necesarias.\n",
        "# # Obtener las longitudes de los lados ingresadas por  usuario\n",
        "lado1 = float(input(\"Ingrese la longitud del primer lado igual: \"))\n",
        "lado2 = float(input(\"Ingrese la longitud del segundo lado igual: \"))\n",
        "base = float(input(\"Ingrese la longitud de la base: \"))\n",
        "\n",
        "# operacion para calcular el pedido\n",
        "perimetro = lado1 + lado2 + base\n",
        "\n",
        "# resultado\n",
        "print(f\"El perímetro del triángulo isósceles es: {perimetro}\")\n"
      ],
      "metadata": {
        "id": "WO4gXAwYQeA4"
      },
      "execution_count": null,
      "outputs": []
    },
    {
      "cell_type": "code",
      "source": [
        "#6.-programa que calcule el perímetro de un triángulo escaleno.\n",
        "#El programa pedirá al usuario las entradas necesarias.\n",
        "ladoa=float(input(\"Ingrese el lado a del triangulo escaleno:\"))\n",
        "ladob=float(input(\"Ingrese el lado b del triangulo escaleno:\"))\n",
        "ladoc=float(input(\"Ingrese el  lado c del triangulo escaleno:\"))\n",
        "\n",
        "#operacion\n",
        "perimetro=ladoa+ladob+ladoc\n",
        "\n",
        "#resultado\n",
        "print(f\"El perimetro del triangulo escaleno es: {perimetro}\")\n"
      ],
      "metadata": {
        "id": "OaYJYUkCb9o-"
      },
      "execution_count": null,
      "outputs": []
    },
    {
      "cell_type": "code",
      "source": [
        "#7.-programa que calcule el perímetro de un triángulo.El programa preguntará al usuario el tipo de triángulo\n",
        "#(equilátero, isósceles o escaleno) y le pedirá las entradas necesarias para realizar el cálculo necesario.\n",
        "tipo_triangulo = input(\"Ingrese el tipo de triángulo (equilátero, isósceles o escaleno): \")\n",
        "\n",
        "# Calcular el perimetro dependiendo de la entrada del ususario\n",
        "if tipo_triangulo == \"equilátero\":\n",
        "    lado = float(input(\"Ingrese la longitud del lado: \"))\n",
        "    perimetro = lado * 3\n",
        "elif tipo_triangulo == \"isosceles\":\n",
        "    lado1 = float(input(\"Ingrese la longitud del primer lado igual: \"))\n",
        "    lado2 = float(input(\"Ingrese la longitud del segundo lado igual: \"))\n",
        "    base = float(input(\"Ingrese la longitud de la base: \"))\n",
        "    perimetro = lado1 + lado2 + base\n",
        "elif tipo_triangulo == \"escaleno\":\n",
        "    ladoa = float(input(\"Ingrese la longitud del lado a: \"))\n",
        "    ladob = float(input(\"Ingrese la longitud del lado b: \"))\n",
        "    ladoc = float(input(\"Ingrese la longitud del lado c: \"))\n",
        "    perimetro = ladoa + ladob + ladoc\n",
        "else:\n",
        "    print(\"Tipo de triángulo inválido.\")\n",
        "    perimetro = None  # Asignar None si el tipo de triángulo es inválido\n",
        "if perimetro is not None:\n",
        "    print(f\"El perímetro del triángulo es: {perimetro}\")\n"
      ],
      "metadata": {
        "id": "gfLTT768goeV"
      },
      "execution_count": null,
      "outputs": []
    },
    {
      "cell_type": "code",
      "source": [
        "#8.-programa que reciba un número e imprima la tabla de multiplicar de ese número del 2 al 10\n",
        "#tablas de multiplicar\n",
        "for numero in range(2, 11):\n",
        "    print(f\"Tabla de multiplicar del {numero}:\")  # iterar el primer digito e imprimirlo\n",
        "    # Iterar a través de multiplicadores del 1 al 10\n",
        "    for i in range(1, 11):\n",
        "        resultado = numero * i  # operacion\n",
        "        print(f\"{numero} x {i} = {resultado}\")  # imprimir  multiplication\n",
        "    print(\"\\n\")"
      ],
      "metadata": {
        "id": "FlgT0tkAYYnf"
      },
      "execution_count": null,
      "outputs": []
    },
    {
      "cell_type": "code",
      "source": [
        "#9.-teorema de la desigualdad de un triángulo. Si tenemos tres segmentos de cualquier longitud,\n",
        "# no siempre se puede construir un triángulo con ellos.\n",
        "#Elabora un programa que reciba la longitud de 3 segmentos y determine si con ellos es posible formar un triángulo.\n",
        "# obtener datos por el usuario\n",
        "a = float(input(\"Ingrese la longitud del primer segmento: \"))\n",
        "b = float(input(\"Ingrese la longitud del segundo segmento: \"))\n",
        "c = float(input(\"Ingrese la longitud del tercer segmento: \"))\n",
        "\n",
        "\n",
        "if a + b > c and a + c > b and b + c > a:\n",
        "    print(\"Es posible formar un triángulo con estos segmentos.\")\n",
        "else:\n",
        "    print(\"No es posible formar un triángulo con estos segmentos.\")\n"
      ],
      "metadata": {
        "id": "qtj1ZfYuaMRE"
      },
      "execution_count": null,
      "outputs": []
    },
    {
      "cell_type": "code",
      "source": [
        "#10 programa o una función que reciba un número entero que represente un año\n",
        "# y devuelva verdadero si el año es bisiesto.\n",
        "def es_bisiesto(year):\n",
        "  \"\"\"Determina si un año es bisiesto.\n",
        "\n",
        "  Args:\n",
        "    year: Un número entero que representa el año.\n",
        "\n",
        "  Returns:\n",
        "    True si el año es bisiesto, False en caso contrario.\n",
        "  \"\"\"\n",
        "  if year % 4 == 0 and (year % 100 != 0 or year % 400 == 0):\n",
        "      return True\n",
        "  else:\n",
        "      return False\n",
        "\n",
        "# Ejemplo de uso:\n",
        "year = int(input(\"Ingrese un año: \"))\n",
        "if es_bisiesto(year):\n",
        "    print(f\"{year} es un año bisiesto.\")\n",
        "else:\n",
        "    print(f\"{year} no es un año bisiesto.\")\n"
      ],
      "metadata": {
        "id": "d3vnQr2NzG2Y"
      },
      "execution_count": null,
      "outputs": []
    },
    {
      "cell_type": "code",
      "source": [
        "#11.-programa que reciba un número entero entre 0 y 11, debe devolver el\n",
        "#nombre de mes correspondiente. Toma en cuenta que 0 = Enero y 11 = Diciembre.\n",
        "\n",
        "numero_mes= int(input(\"Ingrese un numero entre 0 y 11:\"))\n",
        "if numero_mes==0:\n",
        "    print(\"Enero\")\n",
        "elif numero_mes==1:\n",
        "    print(\"Febrero\")\n",
        "elif numero_mes==2:\n",
        "    print(\"Marzo\")\n",
        "elif numero_mes==3:\n",
        "    print(\"Abril\")\n",
        "elif numero_mes==4:\n",
        "    print(\"Mayo\")\n",
        "elif numero_mes==5:\n",
        "    print(\"Junio\")\n",
        "elif numero_mes==6:\n",
        "    print(\"Julio\")\n",
        "elif numero_mes==7:\n",
        "    print(\"Agosto\")\n",
        "elif numero_mes==8:\n",
        "    print(\"Septiembre\")\n",
        "elif numero_mes==9:\n",
        "    print(\"Octubre\")\n",
        "elif numero_mes==10:\n",
        "    print(\"Noviembre\")\n",
        "elif numero_mes==11:\n",
        "    print(\"Diciembre\")\n",
        "else:\n",
        "    print(\"Numero no valido intenta de nuevo\")\n",
        "\n"
      ],
      "metadata": {
        "id": "fcv3wgxwzycw"
      },
      "execution_count": null,
      "outputs": []
    },
    {
      "cell_type": "code",
      "source": [
        "#12.-programa o una función que reciba un día, mes y año y devuelva verdadero si la fecha es real\n",
        "#y falso si la fecha es irreal. Un ejemplo de fecha irreal es 30 de febrero o 31 de abril o 29 de febrero de 2021.\n",
        "def es_fecha_valida(dia, mes, año):\n",
        "    if mes == 2:\n",
        "        if año % 4 == 0 and (año % 100 != 0 or año % 400 == 0):\n",
        "            dias_en_mes = 29\n",
        "        else:\n",
        "            dias_en_mes = 28\n",
        "    elif mes in [4, 6, 9, 11]:\n",
        "        dias_en_mes = 30\n",
        "    else:\n",
        "        dias_en_mes = 31\n",
        "\n",
        "    if 1 <= dia <= dias_en_mes:\n",
        "        return True\n",
        "    else:\n",
        "        return False\n"
      ],
      "metadata": {
        "id": "-J-Ret6e114S"
      },
      "execution_count": null,
      "outputs": []
    },
    {
      "cell_type": "code",
      "source": [
        "#13.-programa que imprima los números del 1 al 100, pero aplicando las siguientes reglas.\n",
        "\"\"\"Regla 1: Cuando el número sea divisible entre 3, en vez del número debe escribir \"ping\"\n",
        "Regla 2: Cuando el número sea divisible entre 5, en vez del número debe escribir \"pong\"\n",
        "Regla 3: Cuando el número   sea divisible entre 3 y también divisible entre 5, en vez del número debe escribir \"ping-pong\"\"\"\n",
        "for i in range(1, 101):\n",
        "    if i % 3 == 0 and i % 5 == 0:\n",
        "        print(\"ping-pong\")\n",
        "    elif i % 3 == 0:\n",
        "        print(\"ping\")\n",
        "    elif i % 5 == 0:\n",
        "        print(\"pong\")\n",
        "    else:\n",
        "        print(i)"
      ],
      "metadata": {
        "id": "Y3rNiy1n3Nxz"
      },
      "execution_count": null,
      "outputs": []
    },
    {
      "cell_type": "code",
      "source": [
        "#14.-programa en el cual el usuario debe adivinar un número entre 1 y 100. El número es generado aleatoriamente por el programa. El programa solo le dará 5 intentos al usuario para adivinar. Al final de los 5 intentos, el programa deberá mostrar el mensaje \"PERDISTE\" y mostrará cuál era el número correcto.\n",
        "\n",
        "#i el usuario adivina en alguno de los 5 intentos, el programa debe mostrar el mensaje \"GANASTE\" y mostrará cuál es el número.\n",
        "\n",
        "#Para efectos de diseño, supongamos que existe una función llamada \"random(desde, hasta)\" que genera un número entero aleatorio delimitado por los parámetros \"desde\" y \"hasta\", los cuales son números enteros.\n",
        "import random\n",
        "\n",
        "def adivina_el_numero():\n",
        "    numero_secreto = random.randint(1, 100)\n",
        "    intentos = 0\n",
        "\n",
        "    print(\"¡Bienvenido al juego de adivinar el número!\")\n",
        "    print(\"Tienes 5 intentos para adivinar un número entre 1 y 100.\")\n",
        "\n",
        "    while intentos < 5:\n",
        "        intentos += 1\n",
        "        try:\n",
        "            numero_usuario = int(input(f\"Intento {intentos}: Ingresa tu número: \"))\n",
        "        except ValueError:\n",
        "            print(\"Entrada inválida. Ingresa un número entero.\")\n",
        "            continue\n",
        "\n",
        "        if numero_usuario == numero_secreto:\n",
        "            print(f\"¡GANASTE! El número era {numero_secreto}. Lo adivinaste en {intentos} intentos.\")\n",
        "            return\n",
        "\n",
        "        if numero_usuario < numero_secreto:\n",
        "            print(\"El número secreto es mayor.\")\n",
        "        else:\n",
        "            print(\"El número secreto es menor.\")\n",
        "\n",
        "    print(f\"PERDISTE. El número secreto era {numero_secreto}.\")\n",
        "\n",
        "# Iniciar el juego\n",
        "adivina_el_numero()"
      ],
      "metadata": {
        "id": "MG-c3Z9A3yA1"
      },
      "execution_count": null,
      "outputs": []
    },
    {
      "cell_type": "code",
      "source": [
        "#15.-programa que juegue volados con el usuario. El juego tendrá 3 rondas.\n",
        "\"\"\"Al inicio de cada ronda, la computadora realiza una apuesta aleatoria entre $20 y $100. Después el usuario deberá realizar su apuesta también con un límite entre $20 y $100.\n",
        "\n",
        "A continuación, el jugador deberá elegir AGUILA o SOL. El programa lanza el volado e imprime el resultado (AGUILA o SOL) el jugador gana si adivinó el resultado, en caso contrario gana el CPU.\n",
        "\n",
        "El ganador se lleva la cantidad de dinero que haya apostado su rival y este restará de su bolsa el dinero que perdió. Tanto el jugador como el CPU empiezan con una bolsa de $500.\n",
        "\n",
        "Quien adivine más rondas gana. Al final de las 3 rondas, el programa debe imprimir quien es el ganador así como la cantidad de dinero tanto del jugador como del CPU.\"\"\"\n",
        "\n",
        "import random\n",
        "\n",
        "def jugar_volados():\n",
        "    jugador_dinero = 500\n",
        "    cpu_dinero = 500\n",
        "    jugador_victorias = 0\n",
        "    cpu_victorias = 0\n",
        "\n",
        "    for ronda in range(1, 4):\n",
        "        print(f\"\\n--- Ronda {ronda} ---\")\n",
        "\n",
        "        # Apuesta del CPU\n",
        "        cpu_apuesta = random.randint(20, 100)\n",
        "        print(f\"El CPU apuesta ${cpu_apuesta}\")\n",
        "\n",
        "        # Apuesta del jugador\n",
        "        while True:\n",
        "            try:\n",
        "                jugador_apuesta = int(input(\"Ingresa tu apuesta (entre $20 y $100): \"))\n",
        "                if 20 <= jugador_apuesta <= 100 and jugador_apuesta <= jugador_dinero:\n",
        "                    break\n",
        "                else:\n",
        "                    print(\"Apuesta inválida. Intenta de nuevo.\")\n",
        "            except ValueError:\n",
        "                print(\"Entrada inválida. Ingresa un número entero.\")\n",
        "\n",
        "        # Elección del jugador\n",
        "        while True:\n",
        "            eleccion_jugador = input(\"Elige Águila (A) o Sol (S): \").upper()\n",
        "            if eleccion_jugador in (\"A\", \"S\"):\n",
        "                break\n",
        "            else:\n",
        "                print(\"Elección inválida. Ingresa A o S.\")\n",
        "\n",
        "        # Lanzar el volado\n",
        "        resultado_volado = random.choice([\"A\", \"S\"])\n",
        "        print(f\"El resultado del volado es: {resultado_volado}\")\n",
        "\n",
        "        # Determinar el ganador\n",
        "        if eleccion_jugador == resultado_volado:\n",
        "            print(\"¡Ganaste la ronda!\")\n",
        "            jugador_dinero += cpu_apuesta\n",
        "            cpu_dinero -= cpu_apuesta\n",
        "            jugador_victorias += 1\n",
        "        else:\n",
        "            print(\"El CPU ganó la ronda.\")\n",
        "            cpu_dinero += jugador_apuesta\n",
        "            jugador_dinero -= jugador_apuesta\n",
        "            cpu_victorias += 1\n",
        "\n",
        "        print(f\"Dinero del jugador: ${jugador_dinero}\")\n",
        "        print(f\"Dinero del CPU: ${cpu_dinero}\")\n",
        "\n",
        "    # Determinar el ganador final\n",
        "    print(\"\\n--- Resultados finales ---\")\n",
        "    if jugador_victorias > cpu_victorias:\n",
        "        print(\"¡Felicidades! Ganaste el juego.\")\n",
        "    elif cpu_victorias > jugador_victorias:\n",
        "        print(\"El CPU ganó el juego.\")\n",
        "    else:\n",
        "        print(\"El juego terminó en empate.\")\n",
        "\n",
        "    print(f\"Dinero final del jugador: ${jugador_dinero}\")\n",
        "    print(f\"Dinero final del CPU: ${cpu_dinero}\")\n",
        "\n",
        "# Iniciar el juego\n",
        "jugar_volados()+\n"
      ],
      "metadata": {
        "id": "VgcrbkYU8wIh"
      },
      "execution_count": null,
      "outputs": []
    }
  ]
}